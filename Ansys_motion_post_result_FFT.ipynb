{
  "nbformat": 4,
  "nbformat_minor": 0,
  "metadata": {
    "colab": {
      "provenance": [],
      "authorship_tag": "ABX9TyMs9MikjGXczsqwl5BcX2m7",
      "include_colab_link": true
    },
    "kernelspec": {
      "name": "python3",
      "display_name": "Python 3"
    },
    "language_info": {
      "name": "python"
    }
  },
  "cells": [
    {
      "cell_type": "markdown",
      "metadata": {
        "id": "view-in-github",
        "colab_type": "text"
      },
      "source": [
        "<a href=\"https://colab.research.google.com/github/hskim-py/Data-Analysis-with-Open-Source/blob/main/Ansys_motion_post_result_FFT.ipynb\" target=\"_parent\"><img src=\"https://colab.research.google.com/assets/colab-badge.svg\" alt=\"Open In Colab\"/></a>"
      ]
    },
    {
      "cell_type": "code",
      "execution_count": 16,
      "metadata": {
        "colab": {
          "base_uri": "https://localhost:8080/"
        },
        "id": "emCfajeJqwML",
        "outputId": "6fc3f1df-e648-4ec9-fe53-091e84700629"
      },
      "outputs": [
        {
          "output_type": "stream",
          "name": "stdout",
          "text": [
            "Raw data and FFT results saved to combined_data_and_fft_results.csv\n"
          ]
        }
      ],
      "source": [
        "# Using Python.NET\n",
        "import clr, sys\n",
        "import matplotlib.pyplot as plt\n",
        "\n",
        "sys.path.append(r'C:\\Program Files\\ANSYS Inc\\v242\\Motion\\bin')\n",
        "clr.AddReference(r'C:\\Program Files\\ANSYS Inc\\v242\\Motion\\bin\\VM.Post.API.OutputReader.dll')\n",
        "clr.AddReference(r'C:\\Program Files\\ANSYS Inc\\v242\\Motion\\bin\\VM.Models.dll')\n",
        "\n",
        "\n",
        "from VM.Post.API.OutputReader import *\n",
        "from VM.Models.OutputReader import *\n",
        "from VM.Models import *\n",
        "from VM.Models.Post import *\n",
        "\n",
        "#targets_paths = {\"TIE_ROD_R\":\"Acceleration/X\", \"TIE_ROD_R\":\"Acceleration/Y\", \"TIE_ROD_R\":\"Acceleration/Z\"}\n",
        "\n",
        "from System.Collections.Generic import List\n",
        "\n",
        "\n",
        "# Import result file\n",
        "\n",
        "#outputReader = OutputReader(r\"E:\\00_Project\\RBNA_NVH_MODEL\\R&V_WOW_BOB_Correlation\\JX_deflector_angle_fc_RG150_WOW3.dfr\")\n",
        "#outputReader = OutputReader(r\"E:\\03_Archive\\250827_JG BELT NOISE\\ansys_motion_modeling\\REPS_Gear_RF_Automation_JG_PROTO_new_contact_r2.dfr\")\n",
        "#outputReader = OutputReader(r\"E:\\03_Archive\\250827_JG BELT NOISE\\ansys_motion_modeling\\REPS_Gear_RF_Automation_JG_T_CAR_30_deg_new_contact_r2.dfr\")\n",
        "outputReader = OutputReader(r\"E:\\03_Archive\\250827_JG BELT NOISE\\ansys_motion_modeling\\REPS_Gear_RF_Automation_JG_PROTO_r2_87mm.dfr\")\n",
        "\n",
        "\n",
        "# Get Curves\n",
        "paths = List[str]()\n",
        "#paths.Add(\"Acceleration/X\")\n",
        "paths.Add(\"Force on Base Marker/Magnitude\")\n",
        "\n",
        "plotParameter = PlotParameters()\n",
        "plotParameter.PlotDataType = PlotDataType.PlotResult\n",
        "plotParameter.AutoDecimation = False\n",
        "#plotParameter.Target = \"TIE_ROD_R\"\n",
        "plotParameter.Target = \"FJ_Motor_Pulley\"\n",
        "plotParameter.Paths = paths\n",
        "\n",
        "results = outputReader.GetCurves(plotParameter)\n",
        "\n",
        "x=[]\n",
        "y=[]\n",
        "\n",
        "for kvp in results:\n",
        "    path_name = kvp.Key\n",
        "    points = kvp.Value\n",
        "\n",
        "    for pt in points:\n",
        "        x.append(pt.X)\n",
        "        y.append(pt.Y)\n",
        "\n",
        "# Close\n",
        "outputReader.Close()\n",
        "\n",
        "import numpy as np\n",
        "from scipy.fft import fft, fftfreq\n",
        "\n",
        "# Select data within the 0.3s to 1s range\n",
        "start_time = 0.3\n",
        "end_time = 1.0\n",
        "\n",
        "# Find indices within the desired time range\n",
        "indices = [i for i, time in enumerate(x) if start_time <= time <= end_time]\n",
        "\n",
        "# Extract the corresponding x and y values\n",
        "x_subset = [x[i] for i in indices]\n",
        "y_subset = [y[i] for i in indices]\n",
        "\n",
        "# Since the time interval is not uniform, interpolate the data to create a uniformly sampled signal for FFT\n",
        "# First, create a uniformly spaced time vector\n",
        "num_points = len(x_subset)  # Or choose a different number of points for interpolation\n",
        "time_uniform = np.linspace(x_subset[0], x_subset[-1], num_points)\n",
        "\n",
        "# Interpolate y_subset onto the uniform time vector\n",
        "y_uniform = np.interp(time_uniform, x_subset, y_subset)\n",
        "\n",
        "# Calculate the sampling frequency assuming the interpolated data is uniformly sampled\n",
        "# dt is the average time difference in the original subset\n",
        "dt = np.mean(np.diff(x_subset))\n",
        "# Fs is the sampling frequency\n",
        "Fs = 1/dt\n",
        "\n",
        "# Perform FFT\n",
        "yf = fft(y_uniform)\n",
        "xf = fftfreq(num_points, dt)[:num_points//2]\n",
        "\n",
        "import pandas as pd\n",
        "\n",
        "# Create DataFrames for raw data and FFT results\n",
        "raw_data_df = pd.DataFrame({'Time (s)': x, 'Value': y})\n",
        "fft_results_df = pd.DataFrame({'Frequency (Hz)': xf, 'Amplitude': 2.0/num_points * np.abs(yf[0:num_points//2])})\n",
        "\n",
        "# Combine the two DataFrames\n",
        "# We'll use concat and add a key to distinguish between raw data and FFT results\n",
        "# Since they have different number of rows, we'll pad with NaN values\n",
        "combined_df = pd.concat([raw_data_df, fft_results_df], axis=1)\n",
        "\n",
        "\n",
        "# Save the combined DataFrame to a single CSV file\n",
        "combined_df.to_csv('combined_data_and_fft_results.csv', index=False)\n",
        "\n",
        "print(\"Raw data and FFT results saved to combined_data_and_fft_results.csv\")"
      ]
    }
  ]
}